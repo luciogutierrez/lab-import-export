{
 "cells": [
  {
   "cell_type": "markdown",
   "metadata": {},
   "source": [
    "# Before your start:\n",
    "- Read the README.md file\n",
    "- Comment as much as you can and use the resources in the README.md file\n",
    "- Happy learning!"
   ]
  },
  {
   "cell_type": "markdown",
   "metadata": {},
   "source": [
    "# Challenge 1 - Working with JSON files\n",
    "\n",
    "Import the pandas library"
   ]
  },
  {
   "cell_type": "code",
   "execution_count": 1,
   "metadata": {},
   "outputs": [],
   "source": [
    "# Your import here:\n",
    "import pandas as pd\n"
   ]
  },
  {
   "cell_type": "markdown",
   "metadata": {},
   "source": [
    "####  After importing pandas, let's find a dataset. In this lesson we will be working with a NASA dataset.\n",
    "\n",
    "Run the code in the cell below to load the dataset containing information about asteroids that have landed on earth. This piece of code helps us open the URL for the dataset and deocde the data using UTF-8."
   ]
  },
  {
   "cell_type": "code",
   "execution_count": 2,
   "metadata": {},
   "outputs": [],
   "source": [
    "# Run this code\n",
    "\n",
    "from urllib.request import urlopen\n",
    "import json\n",
    "\n",
    "response = urlopen(\"https://data.nasa.gov/resource/y77d-th95.json\")\n",
    "json_data = response.read().decode('utf-8', 'replace')"
   ]
  },
  {
   "cell_type": "markdown",
   "metadata": {},
   "source": [
    "In the next cell, load the data in `json_data` and load it into a pandas dataframe. Name the dataframe `nasa`."
   ]
  },
  {
   "cell_type": "code",
   "execution_count": 6,
   "metadata": {},
   "outputs": [],
   "source": [
    "# Your code here:\n",
    "nasa = pd.read_json(json_data)"
   ]
  },
  {
   "cell_type": "markdown",
   "metadata": {},
   "source": [
    "Now that we have loaded the data, let's examine it using the `head()` function."
   ]
  },
  {
   "cell_type": "code",
   "execution_count": 7,
   "metadata": {},
   "outputs": [
    {
     "output_type": "execute_result",
     "data": {
      "text/plain": [
       "       name   id nametype     recclass      mass  fall  \\\n",
       "0    Aachen    1    Valid           L5      21.0  Fell   \n",
       "1    Aarhus    2    Valid           H6     720.0  Fell   \n",
       "2      Abee    6    Valid          EH4  107000.0  Fell   \n",
       "3  Acapulco   10    Valid  Acapulcoite    1914.0  Fell   \n",
       "4   Achiras  370    Valid           L6     780.0  Fell   \n",
       "\n",
       "                      year    reclat    reclong  \\\n",
       "0  1880-01-01T00:00:00.000  50.77500    6.08333   \n",
       "1  1951-01-01T00:00:00.000  56.18333   10.23333   \n",
       "2  1952-01-01T00:00:00.000  54.21667 -113.00000   \n",
       "3  1976-01-01T00:00:00.000  16.88333  -99.90000   \n",
       "4  1902-01-01T00:00:00.000 -33.16667  -64.95000   \n",
       "\n",
       "                                         geolocation  \\\n",
       "0  {'type': 'Point', 'coordinates': [6.08333, 50....   \n",
       "1  {'type': 'Point', 'coordinates': [10.23333, 56...   \n",
       "2  {'type': 'Point', 'coordinates': [-113, 54.216...   \n",
       "3  {'type': 'Point', 'coordinates': [-99.9, 16.88...   \n",
       "4  {'type': 'Point', 'coordinates': [-64.95, -33....   \n",
       "\n",
       "   :@computed_region_cbhk_fwbd  :@computed_region_nnqa_25f4  \n",
       "0                          NaN                          NaN  \n",
       "1                          NaN                          NaN  \n",
       "2                          NaN                          NaN  \n",
       "3                          NaN                          NaN  \n",
       "4                          NaN                          NaN  "
      ],
      "text/html": "<div>\n<style scoped>\n    .dataframe tbody tr th:only-of-type {\n        vertical-align: middle;\n    }\n\n    .dataframe tbody tr th {\n        vertical-align: top;\n    }\n\n    .dataframe thead th {\n        text-align: right;\n    }\n</style>\n<table border=\"1\" class=\"dataframe\">\n  <thead>\n    <tr style=\"text-align: right;\">\n      <th></th>\n      <th>name</th>\n      <th>id</th>\n      <th>nametype</th>\n      <th>recclass</th>\n      <th>mass</th>\n      <th>fall</th>\n      <th>year</th>\n      <th>reclat</th>\n      <th>reclong</th>\n      <th>geolocation</th>\n      <th>:@computed_region_cbhk_fwbd</th>\n      <th>:@computed_region_nnqa_25f4</th>\n    </tr>\n  </thead>\n  <tbody>\n    <tr>\n      <th>0</th>\n      <td>Aachen</td>\n      <td>1</td>\n      <td>Valid</td>\n      <td>L5</td>\n      <td>21.0</td>\n      <td>Fell</td>\n      <td>1880-01-01T00:00:00.000</td>\n      <td>50.77500</td>\n      <td>6.08333</td>\n      <td>{'type': 'Point', 'coordinates': [6.08333, 50....</td>\n      <td>NaN</td>\n      <td>NaN</td>\n    </tr>\n    <tr>\n      <th>1</th>\n      <td>Aarhus</td>\n      <td>2</td>\n      <td>Valid</td>\n      <td>H6</td>\n      <td>720.0</td>\n      <td>Fell</td>\n      <td>1951-01-01T00:00:00.000</td>\n      <td>56.18333</td>\n      <td>10.23333</td>\n      <td>{'type': 'Point', 'coordinates': [10.23333, 56...</td>\n      <td>NaN</td>\n      <td>NaN</td>\n    </tr>\n    <tr>\n      <th>2</th>\n      <td>Abee</td>\n      <td>6</td>\n      <td>Valid</td>\n      <td>EH4</td>\n      <td>107000.0</td>\n      <td>Fell</td>\n      <td>1952-01-01T00:00:00.000</td>\n      <td>54.21667</td>\n      <td>-113.00000</td>\n      <td>{'type': 'Point', 'coordinates': [-113, 54.216...</td>\n      <td>NaN</td>\n      <td>NaN</td>\n    </tr>\n    <tr>\n      <th>3</th>\n      <td>Acapulco</td>\n      <td>10</td>\n      <td>Valid</td>\n      <td>Acapulcoite</td>\n      <td>1914.0</td>\n      <td>Fell</td>\n      <td>1976-01-01T00:00:00.000</td>\n      <td>16.88333</td>\n      <td>-99.90000</td>\n      <td>{'type': 'Point', 'coordinates': [-99.9, 16.88...</td>\n      <td>NaN</td>\n      <td>NaN</td>\n    </tr>\n    <tr>\n      <th>4</th>\n      <td>Achiras</td>\n      <td>370</td>\n      <td>Valid</td>\n      <td>L6</td>\n      <td>780.0</td>\n      <td>Fell</td>\n      <td>1902-01-01T00:00:00.000</td>\n      <td>-33.16667</td>\n      <td>-64.95000</td>\n      <td>{'type': 'Point', 'coordinates': [-64.95, -33....</td>\n      <td>NaN</td>\n      <td>NaN</td>\n    </tr>\n  </tbody>\n</table>\n</div>"
     },
     "metadata": {},
     "execution_count": 7
    }
   ],
   "source": [
    "# Your code here:\n",
    "nasa.head()"
   ]
  },
  {
   "cell_type": "markdown",
   "metadata": {},
   "source": [
    "#### The `value_counts()` function is commonly used in pandas to find the frequency of every value in a column.\n",
    "\n",
    "In the cell below, use the `value_counts()` function to determine the frequency of all types of asteroid landings by applying the function to the `fall` column."
   ]
  },
  {
   "cell_type": "code",
   "execution_count": 8,
   "metadata": {},
   "outputs": [
    {
     "output_type": "stream",
     "name": "stdout",
     "text": [
      "fall\nFell     996\nFound      4\ndtype: int64\n"
     ]
    }
   ],
   "source": [
    "# Your code here:\n",
    "print(nasa.value_counts('fall'))\n"
   ]
  },
  {
   "cell_type": "code",
   "execution_count": 9,
   "metadata": {},
   "outputs": [
    {
     "output_type": "stream",
     "name": "stdout",
     "text": [
      "<class 'pandas.core.frame.DataFrame'>\nRangeIndex: 1000 entries, 0 to 999\nData columns (total 12 columns):\n #   Column                       Non-Null Count  Dtype  \n---  ------                       --------------  -----  \n 0   name                         1000 non-null   object \n 1   id                           1000 non-null   int64  \n 2   nametype                     1000 non-null   object \n 3   recclass                     1000 non-null   object \n 4   mass                         972 non-null    float64\n 5   fall                         1000 non-null   object \n 6   year                         999 non-null    object \n 7   reclat                       988 non-null    float64\n 8   reclong                      988 non-null    float64\n 9   geolocation                  988 non-null    object \n 10  :@computed_region_cbhk_fwbd  133 non-null    float64\n 11  :@computed_region_nnqa_25f4  134 non-null    float64\ndtypes: float64(5), int64(1), object(6)\nmemory usage: 93.9+ KB\n"
     ]
    }
   ],
   "source": [
    "nasa.info()"
   ]
  },
  {
   "cell_type": "markdown",
   "metadata": {},
   "source": [
    "Finally, let's save the dataframe as a json file again. Since we downloaded the file from an online source, the goal of saving the dataframe is to have a local copy. Save the dataframe using the `orient=records` argument and name the file `nasa.json`."
   ]
  },
  {
   "cell_type": "code",
   "execution_count": 10,
   "metadata": {},
   "outputs": [
    {
     "output_type": "stream",
     "name": "stdout",
     "text": [
      "c:\\Users\\lgutierrez\\Documents\\Desarrollo\\data-labs\\lab-import-export\\your-code\n['astronaut.csv', 'astronauts.xls', 'fertility_Diagnosis.txt', 'Learning.ipynb', 'Learning2.ipynb', 'main.ipynb', 'nasa.json', 'shuttle.csv', 'vehicles']\n"
     ]
    }
   ],
   "source": [
    "import os\n",
    "print(os.getcwd())\n",
    "print(os.listdir(os.getcwd()))"
   ]
  },
  {
   "cell_type": "code",
   "execution_count": 12,
   "metadata": {},
   "outputs": [],
   "source": [
    "# Your code here:\n",
    "nasa.to_json(\"c:/Users/lgutierrez/Documents/Desarrollo/data-labs/lab-import-export/your-code/nasa2.json\")"
   ]
  },
  {
   "cell_type": "markdown",
   "metadata": {},
   "source": [
    "# Challenge 2 - Working with CSV and Other Separated Files\n",
    "\n",
    "csv files are more commonly used as dataframes. In the cell below, load the file from the URL provided using the `read_csv()` function in pandas. Starting version 0.19 of pandas, you can load a csv file into a dataframe directly from a URL without having to load the file first like we did with the JSON URL. The dataset we will be using contains informtaions about NASA shuttles. \n",
    "\n",
    "In the cell below, we define the column names and the URL of the data. Following this cell, read the tst file to a variable called `shuttle`. Since the file does not contain the column names, you must add them yourself using the column names declared in `cols` using the `names` argument. Additionally, a tst file is space separated, make sure you pass ` sep=' '` to the function."
   ]
  },
  {
   "cell_type": "code",
   "execution_count": 58,
   "metadata": {},
   "outputs": [],
   "source": [
    "# Run this code:\n",
    "\n",
    "cols = ['time', 'rad_flow', 'fpv_close', 'fpv_open', 'high', 'bypass', 'bpv_close', 'bpv_open', 'class','lastone']\n",
    "tst_url = 'https://archive.ics.uci.edu/ml/machine-learning-databases/statlog/shuttle/shuttle.tst'"
   ]
  },
  {
   "cell_type": "code",
   "execution_count": 59,
   "metadata": {},
   "outputs": [
    {
     "output_type": "execute_result",
     "data": {
      "text/plain": [
       "   time  rad_flow  fpv_close  fpv_open  high  bypass  bpv_close  bpv_open  \\\n",
       "0    56         0         96         0    52      -4         40        44   \n",
       "1    50        -1         89        -7    50       0         39        40   \n",
       "2    53         9         79         0    42      -2         25        37   \n",
       "3    55         2         82         0    54      -6         26        28   \n",
       "4    41         0         84         3    38      -4         43        45   \n",
       "\n",
       "   class  lastone  \n",
       "0      4        4  \n",
       "1      2        1  \n",
       "2     12        4  \n",
       "3      2        1  \n",
       "4      2        1  "
      ],
      "text/html": "<div>\n<style scoped>\n    .dataframe tbody tr th:only-of-type {\n        vertical-align: middle;\n    }\n\n    .dataframe tbody tr th {\n        vertical-align: top;\n    }\n\n    .dataframe thead th {\n        text-align: right;\n    }\n</style>\n<table border=\"1\" class=\"dataframe\">\n  <thead>\n    <tr style=\"text-align: right;\">\n      <th></th>\n      <th>time</th>\n      <th>rad_flow</th>\n      <th>fpv_close</th>\n      <th>fpv_open</th>\n      <th>high</th>\n      <th>bypass</th>\n      <th>bpv_close</th>\n      <th>bpv_open</th>\n      <th>class</th>\n      <th>lastone</th>\n    </tr>\n  </thead>\n  <tbody>\n    <tr>\n      <th>0</th>\n      <td>56</td>\n      <td>0</td>\n      <td>96</td>\n      <td>0</td>\n      <td>52</td>\n      <td>-4</td>\n      <td>40</td>\n      <td>44</td>\n      <td>4</td>\n      <td>4</td>\n    </tr>\n    <tr>\n      <th>1</th>\n      <td>50</td>\n      <td>-1</td>\n      <td>89</td>\n      <td>-7</td>\n      <td>50</td>\n      <td>0</td>\n      <td>39</td>\n      <td>40</td>\n      <td>2</td>\n      <td>1</td>\n    </tr>\n    <tr>\n      <th>2</th>\n      <td>53</td>\n      <td>9</td>\n      <td>79</td>\n      <td>0</td>\n      <td>42</td>\n      <td>-2</td>\n      <td>25</td>\n      <td>37</td>\n      <td>12</td>\n      <td>4</td>\n    </tr>\n    <tr>\n      <th>3</th>\n      <td>55</td>\n      <td>2</td>\n      <td>82</td>\n      <td>0</td>\n      <td>54</td>\n      <td>-6</td>\n      <td>26</td>\n      <td>28</td>\n      <td>2</td>\n      <td>1</td>\n    </tr>\n    <tr>\n      <th>4</th>\n      <td>41</td>\n      <td>0</td>\n      <td>84</td>\n      <td>3</td>\n      <td>38</td>\n      <td>-4</td>\n      <td>43</td>\n      <td>45</td>\n      <td>2</td>\n      <td>1</td>\n    </tr>\n  </tbody>\n</table>\n</div>"
     },
     "metadata": {},
     "execution_count": 59
    }
   ],
   "source": [
    "# Your code here:\n",
    "shuttle = pd.read_csv(tst_url, sep=\" \")\n",
    "shuttle.columns = cols\n",
    "shuttle.head()"
   ]
  },
  {
   "cell_type": "code",
   "execution_count": 60,
   "metadata": {},
   "outputs": [
    {
     "output_type": "stream",
     "name": "stdout",
     "text": [
      "<class 'pandas.core.frame.DataFrame'>\nRangeIndex: 14499 entries, 0 to 14498\nData columns (total 10 columns):\n #   Column     Non-Null Count  Dtype\n---  ------     --------------  -----\n 0   time       14499 non-null  int64\n 1   rad_flow   14499 non-null  int64\n 2   fpv_close  14499 non-null  int64\n 3   fpv_open   14499 non-null  int64\n 4   high       14499 non-null  int64\n 5   bypass     14499 non-null  int64\n 6   bpv_close  14499 non-null  int64\n 7   bpv_open   14499 non-null  int64\n 8   class      14499 non-null  int64\n 9   lastone    14499 non-null  int64\ndtypes: int64(10)\nmemory usage: 1.1 MB\n"
     ]
    }
   ],
   "source": [
    "shuttle.info()"
   ]
  },
  {
   "cell_type": "markdown",
   "metadata": {},
   "source": [
    "Let's verify that this worked by looking at the `head()` function."
   ]
  },
  {
   "cell_type": "code",
   "execution_count": 61,
   "metadata": {},
   "outputs": [
    {
     "output_type": "execute_result",
     "data": {
      "text/plain": [
       "   time  rad_flow  fpv_close  fpv_open  high  bypass  bpv_close  bpv_open  \\\n",
       "0    56         0         96         0    52      -4         40        44   \n",
       "1    50        -1         89        -7    50       0         39        40   \n",
       "2    53         9         79         0    42      -2         25        37   \n",
       "3    55         2         82         0    54      -6         26        28   \n",
       "4    41         0         84         3    38      -4         43        45   \n",
       "\n",
       "   class  lastone  \n",
       "0      4        4  \n",
       "1      2        1  \n",
       "2     12        4  \n",
       "3      2        1  \n",
       "4      2        1  "
      ],
      "text/html": "<div>\n<style scoped>\n    .dataframe tbody tr th:only-of-type {\n        vertical-align: middle;\n    }\n\n    .dataframe tbody tr th {\n        vertical-align: top;\n    }\n\n    .dataframe thead th {\n        text-align: right;\n    }\n</style>\n<table border=\"1\" class=\"dataframe\">\n  <thead>\n    <tr style=\"text-align: right;\">\n      <th></th>\n      <th>time</th>\n      <th>rad_flow</th>\n      <th>fpv_close</th>\n      <th>fpv_open</th>\n      <th>high</th>\n      <th>bypass</th>\n      <th>bpv_close</th>\n      <th>bpv_open</th>\n      <th>class</th>\n      <th>lastone</th>\n    </tr>\n  </thead>\n  <tbody>\n    <tr>\n      <th>0</th>\n      <td>56</td>\n      <td>0</td>\n      <td>96</td>\n      <td>0</td>\n      <td>52</td>\n      <td>-4</td>\n      <td>40</td>\n      <td>44</td>\n      <td>4</td>\n      <td>4</td>\n    </tr>\n    <tr>\n      <th>1</th>\n      <td>50</td>\n      <td>-1</td>\n      <td>89</td>\n      <td>-7</td>\n      <td>50</td>\n      <td>0</td>\n      <td>39</td>\n      <td>40</td>\n      <td>2</td>\n      <td>1</td>\n    </tr>\n    <tr>\n      <th>2</th>\n      <td>53</td>\n      <td>9</td>\n      <td>79</td>\n      <td>0</td>\n      <td>42</td>\n      <td>-2</td>\n      <td>25</td>\n      <td>37</td>\n      <td>12</td>\n      <td>4</td>\n    </tr>\n    <tr>\n      <th>3</th>\n      <td>55</td>\n      <td>2</td>\n      <td>82</td>\n      <td>0</td>\n      <td>54</td>\n      <td>-6</td>\n      <td>26</td>\n      <td>28</td>\n      <td>2</td>\n      <td>1</td>\n    </tr>\n    <tr>\n      <th>4</th>\n      <td>41</td>\n      <td>0</td>\n      <td>84</td>\n      <td>3</td>\n      <td>38</td>\n      <td>-4</td>\n      <td>43</td>\n      <td>45</td>\n      <td>2</td>\n      <td>1</td>\n    </tr>\n  </tbody>\n</table>\n</div>"
     },
     "metadata": {},
     "execution_count": 61
    }
   ],
   "source": [
    "# Your code here:\n",
    "shuttle.head()"
   ]
  },
  {
   "cell_type": "markdown",
   "metadata": {},
   "source": [
    "To make life easier for us, let's turn this dataframe into a comma separated file by saving it using the `to_csv()` function. Save `shuttle` into the file `shuttle.csv` and ensure the file is comma separated and that we are not saving the index column."
   ]
  },
  {
   "cell_type": "code",
   "execution_count": 62,
   "metadata": {},
   "outputs": [],
   "source": [
    "# Your code here:\n",
    "shuttle.to_csv(\"c:/Users/lgutierrez/Documents/Desarrollo/data-labs/lab-import-export/your-code/shuttle2.csv\")"
   ]
  },
  {
   "cell_type": "markdown",
   "metadata": {},
   "source": [
    "# Challenge 3 - Working with Excel Files\n",
    "\n",
    "We can also use pandas to convert excel spreadsheets to dataframes. Let's use the `read_excel()` function. In this case, `astronauts.xls` is in the same folder that contains this notebook. Read this file into a variable called `astronaut`. \n",
    "\n",
    "Note: Make sure to install the `xlrd` library if it is not yet installed."
   ]
  },
  {
   "cell_type": "code",
   "execution_count": 65,
   "metadata": {},
   "outputs": [],
   "source": [
    "# Your code here:\n",
    "astronauts = pd.read_excel(\"c:/Users/lgutierrez/Documents/Desarrollo/data-labs/lab-import-export/your-code/astronauts.xls\")"
   ]
  },
  {
   "cell_type": "markdown",
   "metadata": {},
   "source": [
    "Use the `head()` function to inspect the dataframe."
   ]
  },
  {
   "cell_type": "code",
   "execution_count": 64,
   "metadata": {},
   "outputs": [
    {
     "output_type": "execute_result",
     "data": {
      "text/plain": [
       "               Name    Year  Group   Status Birth Date    Birth Place Gender  \\\n",
       "0   Joseph M. Acaba  2004.0   19.0   Active 1967-05-17  Inglewood, CA   Male   \n",
       "1    Loren W. Acton     NaN    NaN  Retired 1936-03-07   Lewiston, MT   Male   \n",
       "2  James C. Adamson  1984.0   10.0  Retired 1946-03-03     Warsaw, NY   Male   \n",
       "3   Thomas D. Akers  1987.0   12.0  Retired 1951-05-20  St. Louis, MO   Male   \n",
       "4       Buzz Aldrin  1963.0    3.0  Retired 1930-01-20  Montclair, NJ   Male   \n",
       "\n",
       "                                          Alma Mater     Undergraduate Major  \\\n",
       "0  University of California-Santa Barbara; Univer...                 Geology   \n",
       "1   Montana State University; University of Colorado     Engineering Physics   \n",
       "2          US Military Academy; Princeton University             Engineering   \n",
       "3                       University of Missouri-Rolla     Applied Mathematics   \n",
       "4                           US Military Academy; MIT  Mechanical Engineering   \n",
       "\n",
       "          Graduate Major Military Rank         Military Branch  Space Flights  \\\n",
       "0                Geology           NaN                     NaN              2   \n",
       "1          Solar Physics           NaN                     NaN              1   \n",
       "2  Aerospace Engineering       Colonel       US Army (Retired)              2   \n",
       "3    Applied Mathematics       Colonel  US Air Force (Retired)              4   \n",
       "4           Astronautics       Colonel  US Air Force (Retired)              2   \n",
       "\n",
       "   Space Flight (hr)  Space Walks  Space Walks (hr)  \\\n",
       "0               3307            2              13.0   \n",
       "1                190            0               0.0   \n",
       "2                334            0               0.0   \n",
       "3                814            4              29.0   \n",
       "4                289            2               8.0   \n",
       "\n",
       "                                            Missions Death Date Death Mission  \n",
       "0             STS-119 (Discovery), ISS-31/32 (Soyuz)        NaT           NaN  \n",
       "1                              STS 51-F (Challenger)        NaT           NaN  \n",
       "2               STS-28 (Columbia), STS-43 (Atlantis)        NaT           NaN  \n",
       "3  STS-41 (Discovery), STS-49 (Endeavor), STS-61 ...        NaT           NaN  \n",
       "4                               Gemini 12, Apollo 11        NaT           NaN  "
      ],
      "text/html": "<div>\n<style scoped>\n    .dataframe tbody tr th:only-of-type {\n        vertical-align: middle;\n    }\n\n    .dataframe tbody tr th {\n        vertical-align: top;\n    }\n\n    .dataframe thead th {\n        text-align: right;\n    }\n</style>\n<table border=\"1\" class=\"dataframe\">\n  <thead>\n    <tr style=\"text-align: right;\">\n      <th></th>\n      <th>Name</th>\n      <th>Year</th>\n      <th>Group</th>\n      <th>Status</th>\n      <th>Birth Date</th>\n      <th>Birth Place</th>\n      <th>Gender</th>\n      <th>Alma Mater</th>\n      <th>Undergraduate Major</th>\n      <th>Graduate Major</th>\n      <th>Military Rank</th>\n      <th>Military Branch</th>\n      <th>Space Flights</th>\n      <th>Space Flight (hr)</th>\n      <th>Space Walks</th>\n      <th>Space Walks (hr)</th>\n      <th>Missions</th>\n      <th>Death Date</th>\n      <th>Death Mission</th>\n    </tr>\n  </thead>\n  <tbody>\n    <tr>\n      <th>0</th>\n      <td>Joseph M. Acaba</td>\n      <td>2004.0</td>\n      <td>19.0</td>\n      <td>Active</td>\n      <td>1967-05-17</td>\n      <td>Inglewood, CA</td>\n      <td>Male</td>\n      <td>University of California-Santa Barbara; Univer...</td>\n      <td>Geology</td>\n      <td>Geology</td>\n      <td>NaN</td>\n      <td>NaN</td>\n      <td>2</td>\n      <td>3307</td>\n      <td>2</td>\n      <td>13.0</td>\n      <td>STS-119 (Discovery), ISS-31/32 (Soyuz)</td>\n      <td>NaT</td>\n      <td>NaN</td>\n    </tr>\n    <tr>\n      <th>1</th>\n      <td>Loren W. Acton</td>\n      <td>NaN</td>\n      <td>NaN</td>\n      <td>Retired</td>\n      <td>1936-03-07</td>\n      <td>Lewiston, MT</td>\n      <td>Male</td>\n      <td>Montana State University; University of Colorado</td>\n      <td>Engineering Physics</td>\n      <td>Solar Physics</td>\n      <td>NaN</td>\n      <td>NaN</td>\n      <td>1</td>\n      <td>190</td>\n      <td>0</td>\n      <td>0.0</td>\n      <td>STS 51-F (Challenger)</td>\n      <td>NaT</td>\n      <td>NaN</td>\n    </tr>\n    <tr>\n      <th>2</th>\n      <td>James C. Adamson</td>\n      <td>1984.0</td>\n      <td>10.0</td>\n      <td>Retired</td>\n      <td>1946-03-03</td>\n      <td>Warsaw, NY</td>\n      <td>Male</td>\n      <td>US Military Academy; Princeton University</td>\n      <td>Engineering</td>\n      <td>Aerospace Engineering</td>\n      <td>Colonel</td>\n      <td>US Army (Retired)</td>\n      <td>2</td>\n      <td>334</td>\n      <td>0</td>\n      <td>0.0</td>\n      <td>STS-28 (Columbia), STS-43 (Atlantis)</td>\n      <td>NaT</td>\n      <td>NaN</td>\n    </tr>\n    <tr>\n      <th>3</th>\n      <td>Thomas D. Akers</td>\n      <td>1987.0</td>\n      <td>12.0</td>\n      <td>Retired</td>\n      <td>1951-05-20</td>\n      <td>St. Louis, MO</td>\n      <td>Male</td>\n      <td>University of Missouri-Rolla</td>\n      <td>Applied Mathematics</td>\n      <td>Applied Mathematics</td>\n      <td>Colonel</td>\n      <td>US Air Force (Retired)</td>\n      <td>4</td>\n      <td>814</td>\n      <td>4</td>\n      <td>29.0</td>\n      <td>STS-41 (Discovery), STS-49 (Endeavor), STS-61 ...</td>\n      <td>NaT</td>\n      <td>NaN</td>\n    </tr>\n    <tr>\n      <th>4</th>\n      <td>Buzz Aldrin</td>\n      <td>1963.0</td>\n      <td>3.0</td>\n      <td>Retired</td>\n      <td>1930-01-20</td>\n      <td>Montclair, NJ</td>\n      <td>Male</td>\n      <td>US Military Academy; MIT</td>\n      <td>Mechanical Engineering</td>\n      <td>Astronautics</td>\n      <td>Colonel</td>\n      <td>US Air Force (Retired)</td>\n      <td>2</td>\n      <td>289</td>\n      <td>2</td>\n      <td>8.0</td>\n      <td>Gemini 12, Apollo 11</td>\n      <td>NaT</td>\n      <td>NaN</td>\n    </tr>\n  </tbody>\n</table>\n</div>"
     },
     "metadata": {},
     "execution_count": 64
    }
   ],
   "source": [
    "# Your code here:\n",
    "astronauts.head()\n"
   ]
  },
  {
   "cell_type": "markdown",
   "metadata": {},
   "source": [
    "Use the `value_counts()` function to find the most popular undergraduate major among all astronauts."
   ]
  },
  {
   "cell_type": "code",
   "execution_count": 67,
   "metadata": {},
   "outputs": [
    {
     "output_type": "stream",
     "name": "stdout",
     "text": [
      "Undergraduate Major\nPhysics                                  35\nAerospace Engineering                    33\nMechanical Engineering                   30\nAeronautical Engineering                 28\nElectrical Engineering                   23\n                                         ..\nMarine Engineering & Nautical Science     1\nMathematical & Electrical Science         1\nBiochemistry                              1\nMathematics & Economics                   1\nAccounting                                1\nLength: 83, dtype: int64\n"
     ]
    }
   ],
   "source": [
    "# Your code here:\n",
    "print(astronauts.value_counts('Undergraduate Major'))\n"
   ]
  },
  {
   "cell_type": "markdown",
   "metadata": {},
   "source": [
    "Due to all the commas present in the cells of this file, let's save it as a tab separated csv file. In the cell below, save `astronaut` as a tab separated file using the `to_csv` function. Call the file `astronaut.csv` and remember to remove the index column."
   ]
  },
  {
   "cell_type": "code",
   "execution_count": 68,
   "metadata": {},
   "outputs": [],
   "source": [
    "# Your code here:\n",
    "astronauts.to_csv(\"c:/Users/lgutierrez/Documents/Desarrollo/data-labs/lab-import-export/your-code/astronauts.csv\", sep=\"\\t\")\n"
   ]
  },
  {
   "cell_type": "markdown",
   "metadata": {},
   "source": [
    "# Bonus Challenge - Fertility Dataset\n",
    "\n",
    "Visit the following [URL](https://archive.ics.uci.edu/ml/datasets/Fertility) and retrieve the dataset as well as the column headers. Determine the correct separator and read the file into a variable called `fertility`. Examine the dataframe using the `head()` function."
   ]
  },
  {
   "cell_type": "code",
   "execution_count": 70,
   "metadata": {},
   "outputs": [
    {
     "output_type": "execute_result",
     "data": {
      "text/plain": [
       "   Season   Age  Child diseases  Accidents  Surgical Int.  Hig Fivers  \\\n",
       "0   -0.33  0.94               1          0              1           0   \n",
       "1   -0.33  0.50               1          0              0           0   \n",
       "2   -0.33  0.75               0          1              1           0   \n",
       "3   -0.33  0.67               1          1              0           0   \n",
       "4   -0.33  0.67               1          0              1           0   \n",
       "\n",
       "   Freq alchohol comp  smoking  hours spent sit a day Diagnosis  \n",
       "0                 0.8        1                   0.31         O  \n",
       "1                 1.0       -1                   0.50         N  \n",
       "2                 1.0       -1                   0.38         N  \n",
       "3                 0.8       -1                   0.50         O  \n",
       "4                 0.8        0                   0.50         N  "
      ],
      "text/html": "<div>\n<style scoped>\n    .dataframe tbody tr th:only-of-type {\n        vertical-align: middle;\n    }\n\n    .dataframe tbody tr th {\n        vertical-align: top;\n    }\n\n    .dataframe thead th {\n        text-align: right;\n    }\n</style>\n<table border=\"1\" class=\"dataframe\">\n  <thead>\n    <tr style=\"text-align: right;\">\n      <th></th>\n      <th>Season</th>\n      <th>Age</th>\n      <th>Child diseases</th>\n      <th>Accidents</th>\n      <th>Surgical Int.</th>\n      <th>Hig Fivers</th>\n      <th>Freq alchohol comp</th>\n      <th>smoking</th>\n      <th>hours spent sit a day</th>\n      <th>Diagnosis</th>\n    </tr>\n  </thead>\n  <tbody>\n    <tr>\n      <th>0</th>\n      <td>-0.33</td>\n      <td>0.94</td>\n      <td>1</td>\n      <td>0</td>\n      <td>1</td>\n      <td>0</td>\n      <td>0.8</td>\n      <td>1</td>\n      <td>0.31</td>\n      <td>O</td>\n    </tr>\n    <tr>\n      <th>1</th>\n      <td>-0.33</td>\n      <td>0.50</td>\n      <td>1</td>\n      <td>0</td>\n      <td>0</td>\n      <td>0</td>\n      <td>1.0</td>\n      <td>-1</td>\n      <td>0.50</td>\n      <td>N</td>\n    </tr>\n    <tr>\n      <th>2</th>\n      <td>-0.33</td>\n      <td>0.75</td>\n      <td>0</td>\n      <td>1</td>\n      <td>1</td>\n      <td>0</td>\n      <td>1.0</td>\n      <td>-1</td>\n      <td>0.38</td>\n      <td>N</td>\n    </tr>\n    <tr>\n      <th>3</th>\n      <td>-0.33</td>\n      <td>0.67</td>\n      <td>1</td>\n      <td>1</td>\n      <td>0</td>\n      <td>0</td>\n      <td>0.8</td>\n      <td>-1</td>\n      <td>0.50</td>\n      <td>O</td>\n    </tr>\n    <tr>\n      <th>4</th>\n      <td>-0.33</td>\n      <td>0.67</td>\n      <td>1</td>\n      <td>0</td>\n      <td>1</td>\n      <td>0</td>\n      <td>0.8</td>\n      <td>0</td>\n      <td>0.50</td>\n      <td>N</td>\n    </tr>\n  </tbody>\n</table>\n</div>"
     },
     "metadata": {},
     "execution_count": 70
    }
   ],
   "source": [
    "# Your code here:\n",
    "fertility = pd.read_csv(\"c:/Users/lgutierrez/Documents/Desarrollo/data-labs/lab-import-export/your-code/fertility_Diagnosis.txt\")\n",
    "fertility_header = [\"Season\",\"Age\",\"Child diseases\",\"Accidents\",\"Surgical Int.\",\"Hig Fivers\",\"Freq alchohol comp\", \"smoking\", \"hours spent sit a day\",\"Diagnosis\"]\n",
    "fertility.columns = fertility_header\n",
    "fertility.head()\n"
   ]
  }
 ],
 "metadata": {
  "kernelspec": {
   "name": "python394jvsc74a57bd0376f5b0795f81aa7b5d99e448d6274743a66c9892fd26cf11e505993f41df5fa",
   "display_name": "Python 3.9.4 64-bit"
  },
  "language_info": {
   "codemirror_mode": {
    "name": "ipython",
    "version": 3
   },
   "file_extension": ".py",
   "mimetype": "text/x-python",
   "name": "python",
   "nbconvert_exporter": "python",
   "pygments_lexer": "ipython3",
   "version": "3.9.4"
  }
 },
 "nbformat": 4,
 "nbformat_minor": 2
}